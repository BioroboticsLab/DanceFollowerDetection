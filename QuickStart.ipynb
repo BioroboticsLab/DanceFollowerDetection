{
 "cells": [
  {
   "cell_type": "markdown",
   "metadata": {},
   "source": [
    "# QuickStart\n",
    "Quite easy, not much to do"
   ]
  },
  {
   "cell_type": "code",
   "execution_count": 1,
   "metadata": {
    "ExecuteTime": {
     "end_time": "2017-06-15T10:21:47.496011Z",
     "start_time": "2017-06-15T10:21:45.865549Z"
    }
   },
   "outputs": [
    {
     "name": "stderr",
     "output_type": "stream",
     "text": [
      "/opt/conda/envs/bee3/lib/python3.6/site-packages/sklearn/base.py:315: UserWarning: Trying to unpickle estimator LogisticRegression from version 0.18.1 when using version 0.18. This might lead to breaking code or invalid results. Use at your own risk.\n",
      "  UserWarning)\n"
     ]
    },
    {
     "data": {
      "text/html": [
       "<div>\n",
       "<table border=\"1\" class=\"dataframe\">\n",
       "  <thead>\n",
       "    <tr style=\"text-align: right;\">\n",
       "      <th></th>\n",
       "      <th>Unnamed: 0</th>\n",
       "      <th>id</th>\n",
       "      <th>timestamp</th>\n",
       "      <th>x</th>\n",
       "      <th>y</th>\n",
       "      <th>orientation</th>\n",
       "      <th>beeId</th>\n",
       "      <th>track_lengths</th>\n",
       "      <th>cam_id</th>\n",
       "      <th>frame_id</th>\n",
       "    </tr>\n",
       "    <tr>\n",
       "      <th>track_id</th>\n",
       "      <th></th>\n",
       "      <th></th>\n",
       "      <th></th>\n",
       "      <th></th>\n",
       "      <th></th>\n",
       "      <th></th>\n",
       "      <th></th>\n",
       "      <th></th>\n",
       "      <th></th>\n",
       "      <th></th>\n",
       "    </tr>\n",
       "  </thead>\n",
       "  <tbody>\n",
       "    <tr>\n",
       "      <th>1000</th>\n",
       "      <td>66260</td>\n",
       "      <td>f18321937918894559754d108c2</td>\n",
       "      <td>1.471259e+09</td>\n",
       "      <td>1639.0</td>\n",
       "      <td>2037.0</td>\n",
       "      <td>0.481000</td>\n",
       "      <td>[0.9098039215686274, 0.9058823529411765, 0.235...</td>\n",
       "      <td>3</td>\n",
       "      <td>2</td>\n",
       "      <td>18321937918894559754</td>\n",
       "    </tr>\n",
       "    <tr>\n",
       "      <th>1000</th>\n",
       "      <td>66261</td>\n",
       "      <td>f16273571823609269575d107c2</td>\n",
       "      <td>1.471259e+09</td>\n",
       "      <td>1653.0</td>\n",
       "      <td>2037.0</td>\n",
       "      <td>0.493374</td>\n",
       "      <td>[0.996078431372549, 1.0, 0.0, 0.99607843137254...</td>\n",
       "      <td>3</td>\n",
       "      <td>2</td>\n",
       "      <td>16273571823609269575</td>\n",
       "    </tr>\n",
       "    <tr>\n",
       "      <th>1000</th>\n",
       "      <td>66262</td>\n",
       "      <td>f13344659375070970645d107c2</td>\n",
       "      <td>1.471259e+09</td>\n",
       "      <td>1589.0</td>\n",
       "      <td>2025.0</td>\n",
       "      <td>0.194752</td>\n",
       "      <td>[0.8431372549019608, 0.5333333333333333, 0.011...</td>\n",
       "      <td>3</td>\n",
       "      <td>2</td>\n",
       "      <td>13344659375070970645</td>\n",
       "    </tr>\n",
       "    <tr>\n",
       "      <th>1006</th>\n",
       "      <td>67561</td>\n",
       "      <td>f12498929503777263642d219c2</td>\n",
       "      <td>1.471259e+09</td>\n",
       "      <td>2887.0</td>\n",
       "      <td>1837.0</td>\n",
       "      <td>-1.788181</td>\n",
       "      <td>[0.6745098039215687, 1.0, 0.0, 0.9372549019607...</td>\n",
       "      <td>3</td>\n",
       "      <td>2</td>\n",
       "      <td>12498929503777263642</td>\n",
       "    </tr>\n",
       "    <tr>\n",
       "      <th>1006</th>\n",
       "      <td>67562</td>\n",
       "      <td>f12022677783568052495d214c2</td>\n",
       "      <td>1.471259e+09</td>\n",
       "      <td>2887.0</td>\n",
       "      <td>1849.0</td>\n",
       "      <td>-1.935747</td>\n",
       "      <td>[0.996078431372549, 1.0, 0.0, 1.0, 1.0, 1.0, 1...</td>\n",
       "      <td>3</td>\n",
       "      <td>2</td>\n",
       "      <td>12022677783568052495</td>\n",
       "    </tr>\n",
       "  </tbody>\n",
       "</table>\n",
       "</div>"
      ],
      "text/plain": [
       "          Unnamed: 0                           id     timestamp       x  \\\n",
       "track_id                                                                  \n",
       "1000           66260  f18321937918894559754d108c2  1.471259e+09  1639.0   \n",
       "1000           66261  f16273571823609269575d107c2  1.471259e+09  1653.0   \n",
       "1000           66262  f13344659375070970645d107c2  1.471259e+09  1589.0   \n",
       "1006           67561  f12498929503777263642d219c2  1.471259e+09  2887.0   \n",
       "1006           67562  f12022677783568052495d214c2  1.471259e+09  2887.0   \n",
       "\n",
       "               y  orientation  \\\n",
       "track_id                        \n",
       "1000      2037.0     0.481000   \n",
       "1000      2037.0     0.493374   \n",
       "1000      2025.0     0.194752   \n",
       "1006      1837.0    -1.788181   \n",
       "1006      1849.0    -1.935747   \n",
       "\n",
       "                                                      beeId  track_lengths  \\\n",
       "track_id                                                                     \n",
       "1000      [0.9098039215686274, 0.9058823529411765, 0.235...              3   \n",
       "1000      [0.996078431372549, 1.0, 0.0, 0.99607843137254...              3   \n",
       "1000      [0.8431372549019608, 0.5333333333333333, 0.011...              3   \n",
       "1006      [0.6745098039215687, 1.0, 0.0, 0.9372549019607...              3   \n",
       "1006      [0.996078431372549, 1.0, 0.0, 1.0, 1.0, 1.0, 1...              3   \n",
       "\n",
       "          cam_id              frame_id  \n",
       "track_id                                \n",
       "1000           2  18321937918894559754  \n",
       "1000           2  16273571823609269575  \n",
       "1000           2  13344659375070970645  \n",
       "1006           2  12498929503777263642  \n",
       "1006           2  12022677783568052495  "
      ]
     },
     "execution_count": 1,
     "metadata": {},
     "output_type": "execute_result"
    }
   ],
   "source": [
    "import pandas as pd\n",
    "import pickle\n",
    "from dancefollowerdetection import DanceFollowerDetector\n",
    "\n",
    "# some prepared data\n",
    "tracks = pd.read_csv('data.csv').set_index('track_id')\n",
    "tracks.head()"
   ]
  },
  {
   "cell_type": "markdown",
   "metadata": {
    "ExecuteTime": {
     "end_time": "2017-06-04T10:03:59.545046Z",
     "start_time": "2017-06-04T10:03:58.011030Z"
    },
    "scrolled": true
   },
   "source": [
    "**Find some example tracks for a given behavior**"
   ]
  },
  {
   "cell_type": "code",
   "execution_count": 2,
   "metadata": {
    "ExecuteTime": {
     "end_time": "2017-06-15T10:21:47.539801Z",
     "start_time": "2017-06-15T10:21:47.497427Z"
    },
    "collapsed": true
   },
   "outputs": [],
   "source": [
    "ts = {\n",
    "    'dance': tracks.loc[2771],\n",
    "    'follower': tracks.loc[2238],\n",
    "    'other': tracks.loc[1337]\n",
    "}"
   ]
  },
  {
   "cell_type": "markdown",
   "metadata": {},
   "source": [
    "**Make the classifier, it only accepts a track in a pandas format. **\n",
    "\n",
    "Note: Has to contain the columns `['x', 'y', 'orientation', 'timestamp']`"
   ]
  },
  {
   "cell_type": "code",
   "execution_count": 3,
   "metadata": {
    "ExecuteTime": {
     "end_time": "2017-06-15T10:21:47.543744Z",
     "start_time": "2017-06-15T10:21:47.541076Z"
    },
    "collapsed": true
   },
   "outputs": [],
   "source": [
    "det = DanceFollowerDetector()"
   ]
  },
  {
   "cell_type": "markdown",
   "metadata": {},
   "source": [
    "**Predict as classes and return position in track**"
   ]
  },
  {
   "cell_type": "code",
   "execution_count": 4,
   "metadata": {
    "ExecuteTime": {
     "end_time": "2017-06-15T10:21:47.617566Z",
     "start_time": "2017-06-15T10:21:47.545435Z"
    }
   },
   "outputs": [
    {
     "name": "stdout",
     "output_type": "stream",
     "text": [
      "dance (55, 'd')\n",
      "follower (754, 'f')\n",
      "other (29, 'o')\n"
     ]
    }
   ],
   "source": [
    "for k, track in ts.items():\n",
    "    print(k, det.predict(track))"
   ]
  },
  {
   "cell_type": "markdown",
   "metadata": {},
   "source": [
    "**Predict as probabilities and return position in track**"
   ]
  },
  {
   "cell_type": "code",
   "execution_count": 5,
   "metadata": {
    "ExecuteTime": {
     "end_time": "2017-06-15T10:21:47.693937Z",
     "start_time": "2017-06-15T10:21:47.619023Z"
    }
   },
   "outputs": [
    {
     "name": "stdout",
     "output_type": "stream",
     "text": [
      "dance (55, array([ 0.86628894,  0.12914969,  0.00456137]))\n",
      "follower (754, array([  2.49392406e-03,   9.97504731e-01,   1.34488130e-06]))\n",
      "other (29, array([ 0.00103126,  0.00139874,  0.99757   ]))\n"
     ]
    }
   ],
   "source": [
    "for k, track in ts.items():\n",
    "    print(k, det.predict_proba(track))"
   ]
  },
  {
   "cell_type": "markdown",
   "metadata": {
    "collapsed": true
   },
   "source": [
    "**Using `tracks` from bb_tracking is also possible**"
   ]
  },
  {
   "cell_type": "code",
   "execution_count": 6,
   "metadata": {
    "ExecuteTime": {
     "end_time": "2017-06-15T10:21:47.713868Z",
     "start_time": "2017-06-15T10:21:47.695344Z"
    }
   },
   "outputs": [
    {
     "data": {
      "text/plain": [
       "Track(id=0, ids=['f10439591450476975474d103c0'], timestamps=[1468931851.470185], meta={'detections': [Detection(id='f10439591450476975474d103c0', timestamp=1468931851.470185, x=1287, y=2474, orientation=-2.556924343109131, beeId=[0.6431372549019608, 0.611764705882353, 0.611764705882353, 0.3803921568627451, 0.3254901960784314, 0.9921568627450981, 0.9215686274509803, 0.32941176470588235, 0.4745098039215686, 0.6901960784313725, 0.6235294117647059, 0.8313725490196079], meta={'xRotation': -0.11968487501144409, 'yRotation': -0.8886202573776245, 'zRotation': -2.556924343109131, 'camId': 0})], 'median_id': (1, array([ 0.64313725,  0.61176471,  0.61176471,  0.38039216,  0.3254902 ,\n",
       "        0.99215686,  0.92156863,  0.32941176,  0.4745098 ,  0.69019608,\n",
       "        0.62352941,  0.83137255]))})"
      ]
     },
     "execution_count": 6,
     "metadata": {},
     "output_type": "execute_result"
    }
   ],
   "source": [
    "s = b'\\x80\\x03cbb_tracking.data.datastructures\\nTrack\\nq\\x00(K\\x00]q\\x01X\\x1b\\x00\\x00\\x00f10439591450476975474d103c0q\\x02a]q\\x03GA\\xd5\\xe3\\x87\\xc2\\xde\\x17\\x83a}q\\x04(X\\n\\x00\\x00\\x00detectionsq\\x05]q\\x06cbb_tracking.data.datastructures\\nDetection\\nq\\x07(h\\x02GA\\xd5\\xe3\\x87\\xc2\\xde\\x17\\x83M\\x07\\x05M\\xaa\\tG\\xc0\\x04t\\x94\\xc0\\x00\\x00\\x00]q\\x08(G?\\xe4\\x94\\x94\\x94\\x94\\x94\\x95G?\\xe3\\x93\\x93\\x93\\x93\\x93\\x94G?\\xe3\\x93\\x93\\x93\\x93\\x93\\x94G?\\xd8XXXXXXG?\\xd4\\xd4\\xd4\\xd4\\xd4\\xd4\\xd5G?\\xef\\xbf\\xbf\\xbf\\xbf\\xbf\\xc0G?\\xed}}}}}}G?\\xd5\\x15\\x15\\x15\\x15\\x15\\x15G?\\xde^^^^^^G?\\xe6\\x16\\x16\\x16\\x16\\x16\\x16G?\\xe3\\xf3\\xf3\\xf3\\xf3\\xf3\\xf4G?\\xea\\x9a\\x9a\\x9a\\x9a\\x9a\\x9be}q\\t(X\\t\\x00\\x00\\x00xRotationq\\nG\\xbf\\xbe\\xa3\\xab\\x00\\x00\\x00\\x00X\\t\\x00\\x00\\x00yRotationq\\x0bG\\xbf\\xeco\\x93\\xc0\\x00\\x00\\x00X\\t\\x00\\x00\\x00zRotationq\\x0cG\\xc0\\x04t\\x94\\xc0\\x00\\x00\\x00X\\x05\\x00\\x00\\x00camIdq\\rK\\x00utq\\x0e\\x81q\\x0faX\\t\\x00\\x00\\x00median_idq\\x10K\\x01cnumpy.core.multiarray\\n_reconstruct\\nq\\x11cnumpy\\nndarray\\nq\\x12K\\x00\\x85q\\x13C\\x01bq\\x14\\x87q\\x15Rq\\x16(K\\x01K\\x0c\\x85q\\x17cnumpy\\ndtype\\nq\\x18X\\x02\\x00\\x00\\x00f8q\\x19K\\x00K\\x01\\x87q\\x1aRq\\x1b(K\\x03X\\x01\\x00\\x00\\x00<q\\x1cNNNJ\\xff\\xff\\xff\\xffJ\\xff\\xff\\xff\\xffK\\x00tq\\x1db\\x89C`\\x95\\x94\\x94\\x94\\x94\\x94\\xe4?\\x94\\x93\\x93\\x93\\x93\\x93\\xe3?\\x94\\x93\\x93\\x93\\x93\\x93\\xe3?XXXXXX\\xd8?\\xd5\\xd4\\xd4\\xd4\\xd4\\xd4\\xd4?\\xc0\\xbf\\xbf\\xbf\\xbf\\xbf\\xef?}}}}}}\\xed?\\x15\\x15\\x15\\x15\\x15\\x15\\xd5?^^^^^^\\xde?\\x16\\x16\\x16\\x16\\x16\\x16\\xe6?\\xf4\\xf3\\xf3\\xf3\\xf3\\xf3\\xe3?\\x9b\\x9a\\x9a\\x9a\\x9a\\x9a\\xea?q\\x1etq\\x1fb\\x86q utq!\\x81q\".'\n",
    "track = pickle.loads(s)\n",
    "\n",
    "track"
   ]
  },
  {
   "cell_type": "code",
   "execution_count": 7,
   "metadata": {
    "ExecuteTime": {
     "end_time": "2017-06-15T10:21:47.776708Z",
     "start_time": "2017-06-15T10:21:47.715189Z"
    }
   },
   "outputs": [
    {
     "name": "stdout",
     "output_type": "stream",
     "text": [
      "(0, 'o')\n",
      "(0, array([ 0.00103126,  0.00139874,  0.99757   ]))\n"
     ]
    }
   ],
   "source": [
    "print(det.predict(track))\n",
    "print(det.predict_proba(track))"
   ]
  },
  {
   "cell_type": "code",
   "execution_count": null,
   "metadata": {
    "collapsed": true
   },
   "outputs": [],
   "source": []
  }
 ],
 "metadata": {
  "hide_input": false,
  "kernelspec": {
   "display_name": "Python 3",
   "language": "python",
   "name": "python3"
  },
  "language_info": {
   "codemirror_mode": {
    "name": "ipython",
    "version": 3
   },
   "file_extension": ".py",
   "mimetype": "text/x-python",
   "name": "python",
   "nbconvert_exporter": "python",
   "pygments_lexer": "ipython3",
   "version": "3.6.0"
  },
  "toc": {
   "colors": {
    "hover_highlight": "#DAA520",
    "running_highlight": "#FF0000",
    "selected_highlight": "#FFD700"
   },
   "moveMenuLeft": true,
   "nav_menu": {
    "height": "200px",
    "width": "252px"
   },
   "navigate_menu": true,
   "number_sections": true,
   "sideBar": true,
   "threshold": 4,
   "toc_cell": false,
   "toc_position": {
    "height": "1248px",
    "left": "0px",
    "right": "1670px",
    "top": "87px",
    "width": "196px"
   },
   "toc_section_display": "block",
   "toc_window_display": true,
   "widenNotebook": false
  }
 },
 "nbformat": 4,
 "nbformat_minor": 1
}
