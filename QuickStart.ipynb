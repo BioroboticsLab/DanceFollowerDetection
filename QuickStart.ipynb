{
 "cells": [
  {
   "cell_type": "markdown",
   "metadata": {},
   "source": [
    "# QuickStart\n",
    "Quite easy, not much to do"
   ]
  },
  {
   "cell_type": "code",
   "execution_count": 1,
   "metadata": {
    "ExecuteTime": {
     "end_time": "2017-06-04T10:03:59.545046Z",
     "start_time": "2017-06-04T10:03:58.011030Z"
    },
    "scrolled": true
   },
   "outputs": [
    {
     "data": {
      "text/html": [
       "<div>\n",
       "<table border=\"1\" class=\"dataframe\">\n",
       "  <thead>\n",
       "    <tr style=\"text-align: right;\">\n",
       "      <th></th>\n",
       "      <th>Unnamed: 0</th>\n",
       "      <th>id</th>\n",
       "      <th>timestamp</th>\n",
       "      <th>x</th>\n",
       "      <th>y</th>\n",
       "      <th>orientation</th>\n",
       "      <th>beeId</th>\n",
       "      <th>track_lengths</th>\n",
       "      <th>cam_id</th>\n",
       "      <th>frame_id</th>\n",
       "    </tr>\n",
       "    <tr>\n",
       "      <th>track_id</th>\n",
       "      <th></th>\n",
       "      <th></th>\n",
       "      <th></th>\n",
       "      <th></th>\n",
       "      <th></th>\n",
       "      <th></th>\n",
       "      <th></th>\n",
       "      <th></th>\n",
       "      <th></th>\n",
       "      <th></th>\n",
       "    </tr>\n",
       "  </thead>\n",
       "  <tbody>\n",
       "    <tr>\n",
       "      <th>1000</th>\n",
       "      <td>66260</td>\n",
       "      <td>f18321937918894559754d108c2</td>\n",
       "      <td>1.471259e+09</td>\n",
       "      <td>1639.0</td>\n",
       "      <td>2037.0</td>\n",
       "      <td>0.481000</td>\n",
       "      <td>[0.9098039215686274, 0.9058823529411765, 0.235...</td>\n",
       "      <td>3</td>\n",
       "      <td>2</td>\n",
       "      <td>18321937918894559754</td>\n",
       "    </tr>\n",
       "    <tr>\n",
       "      <th>1000</th>\n",
       "      <td>66261</td>\n",
       "      <td>f16273571823609269575d107c2</td>\n",
       "      <td>1.471259e+09</td>\n",
       "      <td>1653.0</td>\n",
       "      <td>2037.0</td>\n",
       "      <td>0.493374</td>\n",
       "      <td>[0.996078431372549, 1.0, 0.0, 0.99607843137254...</td>\n",
       "      <td>3</td>\n",
       "      <td>2</td>\n",
       "      <td>16273571823609269575</td>\n",
       "    </tr>\n",
       "    <tr>\n",
       "      <th>1000</th>\n",
       "      <td>66262</td>\n",
       "      <td>f13344659375070970645d107c2</td>\n",
       "      <td>1.471259e+09</td>\n",
       "      <td>1589.0</td>\n",
       "      <td>2025.0</td>\n",
       "      <td>0.194752</td>\n",
       "      <td>[0.8431372549019608, 0.5333333333333333, 0.011...</td>\n",
       "      <td>3</td>\n",
       "      <td>2</td>\n",
       "      <td>13344659375070970645</td>\n",
       "    </tr>\n",
       "    <tr>\n",
       "      <th>1006</th>\n",
       "      <td>67561</td>\n",
       "      <td>f12498929503777263642d219c2</td>\n",
       "      <td>1.471259e+09</td>\n",
       "      <td>2887.0</td>\n",
       "      <td>1837.0</td>\n",
       "      <td>-1.788181</td>\n",
       "      <td>[0.6745098039215687, 1.0, 0.0, 0.9372549019607...</td>\n",
       "      <td>3</td>\n",
       "      <td>2</td>\n",
       "      <td>12498929503777263642</td>\n",
       "    </tr>\n",
       "    <tr>\n",
       "      <th>1006</th>\n",
       "      <td>67562</td>\n",
       "      <td>f12022677783568052495d214c2</td>\n",
       "      <td>1.471259e+09</td>\n",
       "      <td>2887.0</td>\n",
       "      <td>1849.0</td>\n",
       "      <td>-1.935747</td>\n",
       "      <td>[0.996078431372549, 1.0, 0.0, 1.0, 1.0, 1.0, 1...</td>\n",
       "      <td>3</td>\n",
       "      <td>2</td>\n",
       "      <td>12022677783568052495</td>\n",
       "    </tr>\n",
       "  </tbody>\n",
       "</table>\n",
       "</div>"
      ],
      "text/plain": [
       "          Unnamed: 0                           id     timestamp       x  \\\n",
       "track_id                                                                  \n",
       "1000           66260  f18321937918894559754d108c2  1.471259e+09  1639.0   \n",
       "1000           66261  f16273571823609269575d107c2  1.471259e+09  1653.0   \n",
       "1000           66262  f13344659375070970645d107c2  1.471259e+09  1589.0   \n",
       "1006           67561  f12498929503777263642d219c2  1.471259e+09  2887.0   \n",
       "1006           67562  f12022677783568052495d214c2  1.471259e+09  2887.0   \n",
       "\n",
       "               y  orientation  \\\n",
       "track_id                        \n",
       "1000      2037.0     0.481000   \n",
       "1000      2037.0     0.493374   \n",
       "1000      2025.0     0.194752   \n",
       "1006      1837.0    -1.788181   \n",
       "1006      1849.0    -1.935747   \n",
       "\n",
       "                                                      beeId  track_lengths  \\\n",
       "track_id                                                                     \n",
       "1000      [0.9098039215686274, 0.9058823529411765, 0.235...              3   \n",
       "1000      [0.996078431372549, 1.0, 0.0, 0.99607843137254...              3   \n",
       "1000      [0.8431372549019608, 0.5333333333333333, 0.011...              3   \n",
       "1006      [0.6745098039215687, 1.0, 0.0, 0.9372549019607...              3   \n",
       "1006      [0.996078431372549, 1.0, 0.0, 1.0, 1.0, 1.0, 1...              3   \n",
       "\n",
       "          cam_id              frame_id  \n",
       "track_id                                \n",
       "1000           2  18321937918894559754  \n",
       "1000           2  16273571823609269575  \n",
       "1000           2  13344659375070970645  \n",
       "1006           2  12498929503777263642  \n",
       "1006           2  12022677783568052495  "
      ]
     },
     "execution_count": 1,
     "metadata": {},
     "output_type": "execute_result"
    }
   ],
   "source": [
    "import pandas as pd\n",
    "import lib\n",
    "\n",
    "# some prepared data\n",
    "tracks = pd.read_csv('data.csv').set_index('track_id')\n",
    "tracks.head()"
   ]
  },
  {
   "cell_type": "markdown",
   "metadata": {},
   "source": [
    "**Find some example tracks for a given behavior**"
   ]
  },
  {
   "cell_type": "code",
   "execution_count": 2,
   "metadata": {
    "ExecuteTime": {
     "end_time": "2017-06-04T10:04:00.595720Z",
     "start_time": "2017-06-04T10:04:00.525702Z"
    },
    "collapsed": true
   },
   "outputs": [],
   "source": [
    "ts = {\n",
    "    'dance': tracks.loc[2771],\n",
    "    'follower': tracks.loc[2238],\n",
    "    'other': tracks.loc[1337]\n",
    "}"
   ]
  },
  {
   "cell_type": "markdown",
   "metadata": {},
   "source": [
    "**Make the classifier, it only accepts a track in a pandas format. **\n",
    "\n",
    "Note: Has to contain the columns `['x', 'y', 'orientation', 'timestamp']`\n",
    "\n",
    "Note 2: If it is not in a DataFrame, use `lib.tracks_to_dataframe`"
   ]
  },
  {
   "cell_type": "code",
   "execution_count": 3,
   "metadata": {
    "ExecuteTime": {
     "end_time": "2017-06-04T10:04:00.855201Z",
     "start_time": "2017-06-04T10:04:00.852385Z"
    },
    "collapsed": true
   },
   "outputs": [],
   "source": [
    "det = lib.DanceFollowerDetector()"
   ]
  },
  {
   "cell_type": "markdown",
   "metadata": {},
   "source": [
    "**Predict as classes and return position in track**"
   ]
  },
  {
   "cell_type": "code",
   "execution_count": 4,
   "metadata": {
    "ExecuteTime": {
     "end_time": "2017-06-04T10:04:02.831542Z",
     "start_time": "2017-06-04T10:04:01.171976Z"
    }
   },
   "outputs": [
    {
     "name": "stdout",
     "output_type": "stream",
     "text": [
      "dance (55, 'd')\n",
      "follower (755, 'f')\n",
      "other (29, 'o')\n"
     ]
    }
   ],
   "source": [
    "for k, track in ts.items():\n",
    "    print(k, det.predict(track))"
   ]
  },
  {
   "cell_type": "markdown",
   "metadata": {},
   "source": [
    "**Predict as probabilities and return position in track**"
   ]
  },
  {
   "cell_type": "code",
   "execution_count": 5,
   "metadata": {
    "ExecuteTime": {
     "end_time": "2017-06-04T10:04:04.436484Z",
     "start_time": "2017-06-04T10:04:02.833139Z"
    }
   },
   "outputs": [
    {
     "name": "stdout",
     "output_type": "stream",
     "text": [
      "dance (55, array([ 0.86628894,  0.12914969,  0.00456137]))\n",
      "follower (755, array([  1.04406195e-02,   9.89558243e-01,   1.13791180e-06]))\n",
      "other (29, array([ 0.00103126,  0.00139874,  0.99757   ]))\n"
     ]
    }
   ],
   "source": [
    "for k, track in ts.items():\n",
    "    print(k, det.predict_proba(track))"
   ]
  },
  {
   "cell_type": "code",
   "execution_count": null,
   "metadata": {
    "collapsed": true
   },
   "outputs": [],
   "source": []
  }
 ],
 "metadata": {
  "hide_input": false,
  "kernelspec": {
   "display_name": "Python 3",
   "language": "python",
   "name": "python3"
  },
  "language_info": {
   "codemirror_mode": {
    "name": "ipython",
    "version": 3
   },
   "file_extension": ".py",
   "mimetype": "text/x-python",
   "name": "python",
   "nbconvert_exporter": "python",
   "pygments_lexer": "ipython3",
   "version": "3.6.0"
  },
  "toc": {
   "colors": {
    "hover_highlight": "#DAA520",
    "running_highlight": "#FF0000",
    "selected_highlight": "#FFD700"
   },
   "moveMenuLeft": true,
   "nav_menu": {
    "height": "200px",
    "width": "252px"
   },
   "navigate_menu": true,
   "number_sections": true,
   "sideBar": true,
   "threshold": 4,
   "toc_cell": false,
   "toc_position": {
    "height": "1248px",
    "left": "0px",
    "right": "1670px",
    "top": "87px",
    "width": "196px"
   },
   "toc_section_display": "block",
   "toc_window_display": true,
   "widenNotebook": false
  }
 },
 "nbformat": 4,
 "nbformat_minor": 1
}
